{
 "cells": [
  {
   "cell_type": "markdown",
   "id": "ed9ebd10-d606-4cdb-b05e-cd005738eae6",
   "metadata": {},
   "source": [
    "---\n",
    "title: \"Quarto Basics\"\n",
    "format: \n",
    "  html:\n",
    "    code-fold: true\n",
    "jupyter: python3\n",
    "---"
   ]
  },
  {
   "cell_type": "markdown",
   "id": "54c75fb4-cc31-46c9-a2cb-6f933e05a54f",
   "metadata": {},
   "source": [
    "# Chat bot for Skill Intelligence\n",
    "\n",
    "## Project Documentation\n",
    "\n",
    "### Overview\n",
    "This chat bot provides intelligent responses related to skills, disciplines, and tasks based on predefined data. It leverage’s GPT (OpenAI) for natural language processing and uses FastAPI to handle queries. The user interface is implemented using Streamlit for a seamless experience.\n",
    "System Design\n",
    "\n",
    "### Chat-bot Flow\n",
    "    1. User Interaction: The user inputs a query through the Streamlit interface.\n",
    "    2. Query Processing:\n",
    "        ◦ The query is sent to the FastAPI endpoint.\n",
    "        ◦ The endpoint uses GPT-4o mini to extract keywords and intents.\n",
    "    3. Data Matching: Extracted entities (skills, disciplines, tasks) are matched with predefined data.\n",
    "    4. Response Generation: The chat bot returns a relevant response based on the matched data.\n",
    "### Key Components\n",
    "    1. Predefined Data: A structured list of skills, disciplines, and tasks stored in Python dictionaries.\n",
    "    2. Natural Language Processing:\n",
    "        ◦ GPT identifies relevant entities from the user’s query.\n",
    "        ◦ It recognizes keywords related to skills or tasks.\n",
    "    3. API Communication:\n",
    "        ◦ FastAPI handles back end processing.\n",
    "        ◦ Streamlit interacts with the API to display results.\n"
   ]
  },
  {
   "cell_type": "markdown",
   "id": "7e53786d-ce3b-4dbc-87d3-a34a46c7f475",
   "metadata": {},
   "source": [
    "### Architecture Diagram\n",
    "![Architecture](architecture.png)\n"
   ]
  },
  {
   "cell_type": "code",
   "execution_count": null,
   "id": "d81154f4-04e8-4f77-9dc8-ba26319f4709",
   "metadata": {},
   "outputs": [],
   "source": [
    "### Predefined data -(Sample data):\n",
    "\n",
    "data = {\n",
    "    \"Data Science\": {\n",
    "        \"skills\": [\n",
    "            \"Machine Learning\",\n",
    "            \"Data Visualization\",\n",
    "            \"Data Cleaning\"\n",
    "        ],\n",
    "        \"tasks\": {\n",
    "            \"Machine Learning\": [\n",
    "                \"Build a predictive model\",\n",
    "                \"Train a classification model\",\n",
    "                \"Evaluate model accuracy\"\n",
    "            ],\n",
    "            \"Data Visualization\": [\n",
    "                \"Create a dashboard\",\n",
    "                \"Generate charts\",\n",
    "                \"Visualize data trends\"\n",
    "            ],\n",
    "            \"Data Cleaning\": [\n",
    "                \"Handle missing data\",\n",
    "                \"Normalize data\",\n",
    "                \"Remove outliers\"\n",
    "            ]\n",
    "        }\n",
    "    },\n",
    "    \n",
    "    \"Web Development\": {\n",
    "        \"skills\": [\n",
    "            \"Frontend Development\",\n",
    "            \"Backend Development\",\n",
    "            \"Database Management\"\n",
    "        ],\n",
    "        \"tasks\": {\n",
    "            \"Frontend Development\": [\n",
    "                \"Design user interfaces\",\n",
    "                \"Implement responsive design\",\n",
    "                \"Integrate with APIs\"\n",
    "            ],\n",
    "            \"Backend Development\": [\n",
    "                \"Create server-side logic\",\n",
    "                \"Design databases\",\n",
    "                \"Implement RESTful APIs\"\n",
    "            ],\n",
    "            \"Database Management\": [\n",
    "                \"Set up databases\",\n",
    "                \"Perform database optimization\",\n",
    "                \"Manage data migrations\"\n",
    "            ]\n",
    "        }\n",
    "    },\n",
    "\n",
    "    \"Artificial Intelligence\": {\n",
    "        \"skills\": [\n",
    "            \"Natural Language Processing\",\n",
    "            \"Deep Learning\",\n",
    "            \"Computer Vision\"\n",
    "        ],\n",
    "        \"tasks\": {\n",
    "            \"Natural Language Processing\": [\n",
    "                \"Text classification\",\n",
    "                \"Sentiment analysis\",\n",
    "                \"Named entity recognition\"\n",
    "            ],\n",
    "            \"Deep Learning\": [\n",
    "                \"Build and train neural networks\",\n",
    "                \"Fine-tune hyperparameters\",\n",
    "                \"Apply deep learning models to complex data\"\n",
    "            ],\n",
    "            \"Computer Vision\": [\n",
    "                \"Image classification\",\n",
    "                \"Object detection\",\n",
    "                \"Facial recognition\"\n",
    "            ]\n",
    "        }\n",
    "    }\n",
    "}\n"
   ]
  },
  {
   "cell_type": "markdown",
   "id": "86790425-0a47-4ce5-8952-8f78d9bc34d2",
   "metadata": {},
   "source": [
    "### Chat Application\n",
    "![Application](application.png)"
   ]
  },
  {
   "cell_type": "markdown",
   "id": "4ccbb9c9-0eba-451b-a33f-a6a79d6c627b",
   "metadata": {},
   "source": [
    "### Conclusion\n",
    "The chatbot effectively answers user queries about skills, tasks, and disciplines using predefined data. With a simple architecture and user-friendly interface, it demonstrates the potential for intelligent query processing in skill intelligence."
   ]
  },
  {
   "cell_type": "code",
   "execution_count": null,
   "id": "4405d14f-7d5b-4a2e-9c5a-11566983f51a",
   "metadata": {},
   "outputs": [],
   "source": []
  },
  {
   "cell_type": "code",
   "execution_count": null,
   "id": "be4d7539-83cb-4a4c-9ffc-c89cb113e2b1",
   "metadata": {},
   "outputs": [],
   "source": []
  }
 ],
 "metadata": {
  "kernelspec": {
   "display_name": "Python 3 (ipykernel)",
   "language": "python",
   "name": "python3"
  },
  "language_info": {
   "codemirror_mode": {
    "name": "ipython",
    "version": 3
   },
   "file_extension": ".py",
   "mimetype": "text/x-python",
   "name": "python",
   "nbconvert_exporter": "python",
   "pygments_lexer": "ipython3",
   "version": "3.13.1"
  }
 },
 "nbformat": 4,
 "nbformat_minor": 5
}
